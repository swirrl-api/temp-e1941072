{
 "cells": [
  {
   "cell_type": "code",
   "execution_count": 1,
   "id": "5737abe1-9a92-40e4-9b33-c0729c19032a",
   "metadata": {},
   "outputs": [
    {
     "ename": "ERROR",
     "evalue": "Error in eval(expr, envir, enclos): object 'efsd' not found\n",
     "output_type": "error",
     "traceback": [
      "Error in eval(expr, envir, enclos): object 'efsd' not found\nTraceback:\n"
     ]
    }
   ],
   "source": [
    "efsd"
   ]
  },
  {
   "cell_type": "code",
   "execution_count": null,
   "id": "b03b90aa-fb9d-4467-ac20-d571db35ec5b",
   "metadata": {},
   "outputs": [],
   "source": []
  }
 ],
 "metadata": {
  "kernelspec": {
   "display_name": "R",
   "language": "R",
   "name": "ir"
  },
  "language_info": {
   "codemirror_mode": "r",
   "file_extension": ".r",
   "mimetype": "text/x-r-source",
   "name": "R",
   "pygments_lexer": "r",
   "version": "4.2.3"
  }
 },
 "nbformat": 4,
 "nbformat_minor": 5
}
